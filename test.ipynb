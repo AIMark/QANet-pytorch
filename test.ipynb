{
 "cells": [
  {
   "cell_type": "code",
   "execution_count": 7,
   "metadata": {},
   "outputs": [],
   "source": [
    "import ujson as uj\n",
    "import numpy as np\n",
    "import os"
   ]
  },
  {
   "cell_type": "code",
   "execution_count": 8,
   "metadata": {},
   "outputs": [],
   "source": [
    "class SQuAD:\n",
    "    class Dataset:\n",
    "        def __init__(self):\n",
    "            '''\n",
    "            length: the length of dataset\n",
    "            passages: indexes of word embeddings for passages\n",
    "            questions: indexes of word embeddings for questions\n",
    "            answers: the positions in `wpassages` of the first and last words in an answer\n",
    "            pack: [(idx of wpassages, idx of wquestions, idx of answers)]\n",
    "            '''\n",
    "            self.length = 0\n",
    "            self.contexts = []\n",
    "            self.questions = []\n",
    "            self.question_ids = []\n",
    "            self.answers = []\n",
    "            self.packs = []\n",
    "\n",
    "    def __init__(self):\n",
    "        self.word_embedding = np.zeros((1, 1))\n",
    "        self.char_embedding = np.zeros((1, 1))\n",
    "        self.train = SQuAD.Dataset()\n",
    "        self.dev = SQuAD.Dataset()\n",
    "        self.itow = {}\n",
    "        self.wtoi = {}\n",
    "        self.itoc = {}\n",
    "        self.ctoi = {}\n",
    "\n",
    "    @classmethod\n",
    "    def load(cls, dirname: str):\n",
    "        squad = SQuAD()\n",
    "        f = open(os.path.join(dirname, \"itow.json\"), \"r\")\n",
    "        itow = uj.load(f)\n",
    "        for k in itow:\n",
    "            squad.itow[int(k)] = itow[k]\n",
    "        f.close()\n",
    "        f = open(os.path.join(dirname, \"wtoi.json\"), \"r\")\n",
    "        squad.wtoi = uj.load(f)\n",
    "        f.close()\n",
    "        f = open(os.path.join(dirname, \"itoc.json\"), \"r\")\n",
    "        itoc = uj.load(f)\n",
    "        for k in itoc:\n",
    "            squad.itoc[int(k)] = itoc[k]\n",
    "        f.close()\n",
    "        f = open(os.path.join(dirname, \"ctoi.json\"), \"r\")\n",
    "        squad.ctoi = uj.load(f)\n",
    "        f.close()\n",
    "        f = open(os.path.join(dirname, \"char_embedding.npy\"), \"rb\")\n",
    "        squad.char_embedding = np.load(f)\n",
    "        f.close()\n",
    "        f = open(os.path.join(dirname, \"word_embedding.npy\"), \"rb\")\n",
    "        squad.word_embedding = np.load(f)\n",
    "        f.close()\n",
    "        f = open(os.path.join(dirname, \"train.json\"), \"r\")\n",
    "        train = uj.load(f)\n",
    "        for key in train:\n",
    "            squad.train.__setattr__(key, train[key])\n",
    "        f.close()\n",
    "        f = open(os.path.join(dirname, \"dev.json\"), \"r\")\n",
    "        dev = uj.load(f)\n",
    "        for key in dev:\n",
    "            squad.dev.__setattr__(key, dev[key])\n",
    "        f.close()\n",
    "        return squad\n",
    "\n",
    "    def dump(self, dirname: str):\n",
    "        if not os.path.exists(dirname):\n",
    "            os.mkdir(dirname)\n",
    "        f = open(os.path.join(dirname, \"itow.json\"), \"w\")\n",
    "        uj.dump(self.itow, f)\n",
    "        f.close()\n",
    "        f = open(os.path.join(dirname, \"wtoi.json\"), \"w\")\n",
    "        uj.dump(self.wtoi, f)\n",
    "        f.close()\n",
    "        f = open(os.path.join(dirname, \"itoc.json\"), \"w\")\n",
    "        uj.dump(self.itoc, f)\n",
    "        f.close()\n",
    "        f = open(os.path.join(dirname, \"ctoi.json\"), \"w\")\n",
    "        uj.dump(self.ctoi, f)\n",
    "        f.close()\n",
    "        f = open(os.path.join(dirname, \"char_embedding.npy\"), \"wb\")\n",
    "        np.save(f, self.char_embedding, allow_pickle=False)\n",
    "        f.close()\n",
    "        f = open(os.path.join(dirname, \"word_embedding.npy\"), \"wb\")\n",
    "        np.save(f, self.word_embedding, allow_pickle=False)\n",
    "        f.close()\n",
    "        f = open(os.path.join(dirname, \"train.json\"), \"w\")\n",
    "        uj.dump(self.train.__dict__, f)\n",
    "        f.close()\n",
    "        f = open(os.path.join(dirname, \"dev.json\"), \"w\")\n",
    "        uj.dump(self.dev.__dict__, f)\n",
    "        f.close()"
   ]
  },
  {
   "cell_type": "code",
   "execution_count": 9,
   "metadata": {},
   "outputs": [],
   "source": [
    "squad = SQuAD.load(\"data\")"
   ]
  },
  {
   "cell_type": "code",
   "execution_count": null,
   "metadata": {},
   "outputs": [],
   "source": [
    "train = "
   ]
  },
  {
   "cell_type": "raw",
   "metadata": {},
   "source": []
  }
 ],
 "metadata": {
  "kernelspec": {
   "display_name": "Python 3",
   "language": "python",
   "name": "python3"
  },
  "language_info": {
   "codemirror_mode": {
    "name": "ipython",
    "version": 3
   },
   "file_extension": ".py",
   "mimetype": "text/x-python",
   "name": "python",
   "nbconvert_exporter": "python",
   "pygments_lexer": "ipython3",
   "version": "3.6.5"
  }
 },
 "nbformat": 4,
 "nbformat_minor": 2
}
